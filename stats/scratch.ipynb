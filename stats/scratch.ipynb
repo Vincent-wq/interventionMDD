{
 "cells": [
  {
   "cell_type": "markdown",
   "id": "ade2b192-f150-4525-9842-0313c0458a73",
   "metadata": {},
   "source": [
    "# This is the Project to analyze the running invervention dataset\n",
    "\n",
    "## Dataset:\n",
    "    0. Data source: [https://openneuro.org/datasets/ds003799/versions/1.0.0]( Openneuro)\n",
    "    1. Imaging data MRI *3 sessions;\n",
    "    2. Depression measures: Description: German version of the Center for Epidemiological Studies Depression Scale(CES-D). Hautzinger, M., Bailer, M., Hofmeister, D., & Keller, F. (2012). Allgemeine Depressionsskala (ADS). Manual (2. Auflage). Göttingen: Hogrefe Verlag GmbH. This self-assessing scale comprises 20 items covering depressive symptoms in the emotional, motivational, cognitive, somatic, and motoric domain. Participants had to indicate the extent to which the given conditions apply to them in the last week on a four-point scale ranging from “infrequent” to “the most time”.\n",
    "    3. \n",
    "\n",
    "## Proposed analysis:\n",
    "    Pre-registration: https://osf.io/yg5bu/\n",
    "    1. Hypothesis testing\n",
    "        1. Intervention effects;\n",
    "        2. Post intervention effects;\n",
    "        3. \n",
    "    2. Exploratory analysis\n",
    "        1. structrual cov \n",
    "    \n",
    "## Gitrepo\n",
    "    https://github.com/Vincent-wq\n",
    "\n",
    "## paper draft"
   ]
  },
  {
   "cell_type": "code",
   "execution_count": 23,
   "id": "88b3bef0-62aa-492d-bac9-a6721f39657b",
   "metadata": {},
   "outputs": [],
   "source": [
    "# libs and envs\n",
    "import sys\n",
    "proj_path_str='/scratch/interventionMDD'\n",
    "sys.path.append(proj_path_str)\n",
    "from pathlib import Path\n",
    "import pandas as pd\n",
    "import numpy as np\n",
    "\n",
    "# main PATH\n",
    "main_dir = Path(proj_path_str)\n",
    "data_dir = main_dir / 'data' \n",
    "fig_dir =  main_dir / 'figs' \n",
    "\n",
    "# read tabular files \n",
    "participant_file = data_dir / 'participants.tsv'  # Inormation from download database.\n",
    "mdd_score_file   = data_dir / 'phenotype_CES-D.tsv'  # Inormation from download database.\n",
    "\n",
    "# output QA subject list \n",
    "mdd_qa_file   = main_dir / \"scripts\" / \"QA\" / 'runningMDD_qa_list.csv'  # Information from download database.\n",
    "\n",
    "# Freesurfer brain measures\n",
    "fs_ses1_dir  =  main_dir / \"scripts\" / \"collect_fs_measures\" / \"ses-1\" \n",
    "fs_ses2_dir  =  main_dir / \"scripts\" / \"collect_fs_measures\" / \"ses-2\" \n",
    "fs_ses3_dir  =  main_dir / \"scripts\" / \"collect_fs_measures\" / \"ses-3\" \n",
    "\n",
    "files_2_read={'seg': ['aseg_stats.txt', 'wmparc_stats.txt'],\n",
    "              'Destrieux': {'ct': '.a2009s.thickness.txt','area':'.a2009s.area.txt', 'volume':'.a2009s.volume.txt', 'meancurv':'.a2009s.meancurv.txt'},\n",
    "              'DKT': {'ct': '.DKTatlas.thickness.txt','area':'.DKTatlas.area.txt', 'volume':'.DKTatlas.volume.txt', 'meancurv':'.DKTatlas.meancurv.txt'}}\n",
    "\n",
    "# read and select UPDRS-3data\n",
    "sub_data = pd.read_csv(participant_file, sep='\\t')\n",
    "sub_data.index=sub_data['participant_id']\n",
    "sub_data=sub_data.drop(columns=['participant_id']).copy()\n",
    "sub_col_list = ['participant_id', 'group', 'age', 'sex', 'size', 'weight'];\n",
    "\n",
    "# read and select MOCA data\n",
    "mdd_data  = pd.read_csv(mdd_score_file, sep='\\t')\n",
    "mdd_data.index = mdd_data['participant_id']\n",
    "mdd_data=mdd_data.drop(columns=['participant_id']).copy()\n",
    "moca_list = ['participant_id', 'CES-D_1', 'CES-D_2', 'CES-D_3'];\n",
    "\n",
    "##join data\n",
    "data_df = sub_data.join(mdd_data, on = ['participant_id'], how='left').copy()"
   ]
  },
  {
   "cell_type": "code",
   "execution_count": 21,
   "id": "e04b4f5e-91e9-4cd4-9b38-ee414be9e7f0",
   "metadata": {},
   "outputs": [
    {
     "name": "stdout",
     "output_type": "stream",
     "text": [
      "Subject list space seperated: \n",
      "sub-season101 sub-season102 sub-season103 sub-season104 sub-season105 sub-season106 sub-season107 sub-season108 sub-season109 sub-season110 sub-season111 sub-season112 sub-season114 sub-season116 sub-season117 sub-season119 sub-season120 sub-season121 sub-season122 sub-season123 sub-season124 sub-season125 sub-season126 sub-season127 sub-season128 sub-season129 sub-season130 sub-season131 sub-season132 sub-season133 sub-season134 sub-season135 sub-season136 sub-season137 sub-season138 sub-season139 sub-season202 sub-season204 sub-season206 sub-season207 sub-season208 sub-season211 sub-season212 sub-season213 sub-season214 sub-season215 sub-season216 sub-season217\n"
     ]
    }
   ],
   "source": [
    "# Generate files for QA\n",
    "data_df.to_csv(mdd_qa_file, columns=[], header=False)\n",
    "#generate the subject list for freesurfer results collection\n",
    "print(\"Subject list space seperated: \")\n",
    "print(' '.join((data_df.index)))\n",
    "data_df"
   ]
  },
  {
   "cell_type": "code",
   "execution_count": 24,
   "id": "5dab1be1-090e-41bd-81dc-b367db96c8a4",
   "metadata": {},
   "outputs": [
    {
     "name": "stderr",
     "output_type": "stream",
     "text": [
      "/usr/local/miniconda/lib/python3.8/site-packages/bids/layout/models.py:148: FutureWarning: The 'extension' entity currently excludes the leading dot ('.'). As of version 0.14.0, it will include the leading dot. To suppress this warning and include the leading dot, use `bids.config.set_option('extension_initial_dot', True)`.\n",
      "  warnings.warn(\"The 'extension' entity currently excludes the leading dot ('.'). \"\n"
     ]
    },
    {
     "name": "stdout",
     "output_type": "stream",
     "text": [
      "['1', '2', '3']\n"
     ]
    }
   ],
   "source": [
    "# read bids layout and output all sessions\n",
    "from bids import BIDSLayout\n",
    "bids_dir='/scratch/runningMDD_BIDS'\n",
    "bids_layout=BIDSLayout(bids_dir)\n",
    "print(bids_layout.get_sessions())"
   ]
  },
  {
   "cell_type": "code",
   "execution_count": 34,
   "id": "825691d7-643a-4363-b658-70403aaa0f1d",
   "metadata": {},
   "outputs": [
    {
     "name": "stdout",
     "output_type": "stream",
     "text": [
      "None\n"
     ]
    }
   ],
   "source": [
    "subj_df = bids_layout.get_collections(level='subject', merge=True)\n",
    "print(subj_df)"
   ]
  },
  {
   "cell_type": "code",
   "execution_count": null,
   "id": "c7f9e923-6647-473a-a9b3-2f87cd8c56a5",
   "metadata": {},
   "outputs": [],
   "source": []
  }
 ],
 "metadata": {
  "kernelspec": {
   "display_name": "Python 3 (ipykernel)",
   "language": "python",
   "name": "python3"
  },
  "language_info": {
   "codemirror_mode": {
    "name": "ipython",
    "version": 3
   },
   "file_extension": ".py",
   "mimetype": "text/x-python",
   "name": "python",
   "nbconvert_exporter": "python",
   "pygments_lexer": "ipython3",
   "version": "3.8.5"
  }
 },
 "nbformat": 4,
 "nbformat_minor": 5
}
